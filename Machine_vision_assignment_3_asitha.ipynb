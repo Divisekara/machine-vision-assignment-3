{
  "nbformat": 4,
  "nbformat_minor": 0,
  "metadata": {
    "colab": {
      "name": "Machine vision assignment 3 asitha.ipynb",
      "provenance": [],
      "collapsed_sections": []
    },
    "kernelspec": {
      "name": "python3",
      "display_name": "Python 3"
    },
    "language_info": {
      "name": "python"
    }
  },
  "cells": [
    {
      "cell_type": "code",
      "source": [
        "!pip install -U scikit-learn"
      ],
      "metadata": {
        "colab": {
          "base_uri": "https://localhost:8080/"
        },
        "id": "VP46JJv_bJRE",
        "outputId": "414dc1c1-dd4a-47da-aff1-26abcf9c45f4"
      },
      "execution_count": null,
      "outputs": [
        {
          "output_type": "stream",
          "name": "stdout",
          "text": [
            "Requirement already satisfied: scikit-learn in /usr/local/lib/python3.7/dist-packages (1.0.2)\n",
            "Requirement already satisfied: joblib>=0.11 in /usr/local/lib/python3.7/dist-packages (from scikit-learn) (1.1.0)\n",
            "Requirement already satisfied: numpy>=1.14.6 in /usr/local/lib/python3.7/dist-packages (from scikit-learn) (1.19.5)\n",
            "Requirement already satisfied: scipy>=1.1.0 in /usr/local/lib/python3.7/dist-packages (from scikit-learn) (1.4.1)\n",
            "Requirement already satisfied: threadpoolctl>=2.0.0 in /usr/local/lib/python3.7/dist-packages (from scikit-learn) (3.0.0)\n"
          ]
        }
      ]
    },
    {
      "cell_type": "code",
      "source": [
        "from sklearn.metrics import mean_squared_error"
      ],
      "metadata": {
        "id": "todmRWFbelfe"
      },
      "execution_count": null,
      "outputs": []
    },
    {
      "cell_type": "code",
      "execution_count": null,
      "metadata": {
        "colab": {
          "base_uri": "https://localhost:8080/",
          "height": 486
        },
        "id": "KWZH5DKSYjGd",
        "outputId": "5bfeedfc-2d2e-4fdf-b28c-1ade7553ecc8"
      },
      "outputs": [
        {
          "output_type": "stream",
          "name": "stdout",
          "text": [
            "(25, 4) (25,)\n",
            "(25, 1) (25,)\n",
            "(25, 2) (25,)\n",
            "(25, 3) (25,)\n",
            "(25, 4) (25,)\n",
            "(25, 5) (25,)\n",
            "(25, 6) (25,)\n",
            "(25, 7) (25,)\n",
            "(25, 8) (25,)\n",
            "(25, 9) (25,)\n",
            "(25, 10) (25,)\n"
          ]
        },
        {
          "output_type": "display_data",
          "data": {
            "image/png": "[encoded data removed]",
            "text/plain": [
              "<Figure size 432x288 with 1 Axes>"
            ]
          },
          "metadata": {
            "needs_background": "light"
          }
        }
      ],
      "source": [
        "\"\"\" Assignment 3: EN4553 (Machine Vision) \"\"\"\n",
        "__author__ = \"D.M.Asitha Indrajith Divisekara\"\n",
        "__indexNo__ = \"170150A\"\n",
        "\n",
        "# this is the only input to the entire script\n",
        "Dataset_dir = \"170150A/\"\n",
        "##################################################################################################################################\n",
        "\n",
        "# question 1 - part a\n",
        "# read the dataset as a set of arrays.\n",
        "\n",
        "import numpy as np\n",
        "from typing import Tuple\n",
        "\n",
        "def load_dataset(src_dir: str) -> Tuple[np.ndarray, np.ndarray, np.ndarray, np.ndarray, np.ndarray]:\n",
        "    \n",
        "    x_train = np.loadtxt(src_dir + 'x_train.txt')\n",
        "    y_train = np.loadtxt(src_dir + 'y_train.txt')\n",
        "    x_val = np.loadtxt(src_dir + 'x_val.txt')\n",
        "    y_val = np.loadtxt(src_dir + 'y_val.txt')\n",
        "    x_test = np.loadtxt(src_dir + 'x_test.txt')\n",
        "\n",
        "    return x_train, y_train, x_val, y_val, x_test\n",
        "#################################################################################################################################\n",
        "\n",
        "# n - hyper parameter \n",
        "# each w is a weight\n",
        "# variables x,y represent rows in x_train.txt y_train.txt\n",
        "# question 1 part b sub part 1\n",
        "# make input features for the above linear regression model.\n",
        "\n",
        "def get_features(x: np.ndarray, n: int) -> np.ndarray:\n",
        "    features = []\n",
        "\n",
        "    for i in range(1,n+1):\n",
        "        features.append(np.power(x,i))\n",
        "\n",
        "    features_nparray = np.array(features)\n",
        "    features_output = np.transpose(features_nparray)\n",
        "    return features_output\n",
        "####################################################################################################################################\n",
        "\n",
        "# question 1 part b sub part 2\n",
        "# fit and evaluate function\n",
        "\n",
        "from sklearn.linear_model import LinearRegression\n",
        "# from sklearn.metrics import mean_squared_error # this can be achieved using np.mean function\n",
        "\n",
        "def fit_and_evaluate(x_train:np.ndarray, y_train:np.ndarray, x_val:np.ndarray, y_val:np.ndarray, x_test: np.ndarray, n:int) -> Tuple[float, float]:\n",
        "# here we also give x_test as an arguement to the function for last part of the assignment we can remove it since other parts does not need this \n",
        "    regressor = LinearRegression(fit_intercept = False)\n",
        "    x_train_features = get_features(x_train, n)\n",
        "    print(x_train_features.shape, y_train.shape)\n",
        "    x_val_features = get_features(x_val, n)\n",
        "    x_test_features = get_features(x_test, n) #only for part d)\n",
        "    regressor.fit(x_train_features,y_train)\n",
        "    \n",
        "    # W = regressor.coef_\n",
        "    # print('W shape = ', W.shape)\n",
        "    # W_transpose = np.transpose(W)\n",
        "    # print('W_transpose shape = ', W_transpose.shape)\n",
        "    \n",
        "    y_predict_train = regressor.predict(x_train_features)\n",
        "    y_predict_val = regressor.predict(x_val_features) \n",
        "    y_predict_test = regressor.predict(x_test_features) # only for part d)\n",
        "\n",
        "    # print(y_predict_test)\n",
        "    # np.savetxt(\"170150A_y_predict_test.txt\", y_predict_test) # only for part d)\n",
        "    np.savetxt(\"170150A_y_predict_test.txt\", y_predict_test) # only for part d)\n",
        "\n",
        "    # we can use numpy mean function to find the Mean Squared Error no need to import sklearn metrics\n",
        "    train_mse = mean_squared_error(y_train, y_predict_train) \n",
        "    # train_mse = np.mean((y_predict_train - y_train)**2)\n",
        "\n",
        "    val_mse = mean_squared_error(y_val, y_predict_val)\n",
        "    # val_mse = np.mean((y_predict_val - y_val)**2)\n",
        "    \n",
        "    return train_mse, val_mse\n",
        "    \n",
        "####################################################################################################################################\n",
        "\n",
        "import matplotlib.pyplot as plt\n",
        "\n",
        "# the datasets conaining path can be given wrt the root folder\n",
        "\n",
        "x_train, y_train, x_val, y_val, x_test = load_dataset(Dataset_dir)\n",
        "\n",
        "# the following line is only for the part d which is the prediction on test set\n",
        "fit_and_evaluate(x_train, y_train, x_val, y_val, x_test,4)\n",
        "\n",
        "# Finding the MSE on training and validation for different n values\n",
        "train_mse_array = []\n",
        "val_mse_array = []\n",
        "\n",
        "for i in range(1,11):\n",
        "    train_mse,val_mse = train_mse, val_mse = fit_and_evaluate(x_train, y_train, x_val, y_val, x_test,i)\n",
        "    train_mse_array.append(train_mse)\n",
        "    val_mse_array.append(val_mse)\n",
        "\n",
        "# plotting the train and validation squarred errors\n",
        "plt.plot(range(1,11), train_mse_array, \"o-\", color=\"red\", label=\"Train MSE\")\n",
        "plt.plot(range(1,11), val_mse_array, \"o-\", color=\"green\", label=\"Validation MSE\")\n",
        "plt.axhline(y = min(val_mse_array), color = 'black', linestyle = 'dashed')\n",
        "plt.axvline(x = 1+val_mse_array.index(min(val_mse_array)), color = 'black', linestyle = 'dashed')\n",
        "\n",
        "plt.xticks(range(1,11))\n",
        "plt.yticks(list(np.linspace(0,0.08,5)) + [min(val_mse_array)])\n",
        "plt.legend()\n",
        "plt.xlabel('n hyperparameter range 1-10')\n",
        "plt.ylabel('Train/validation  Mean Square Error')\n",
        "plt.title('Hyper-parameter n vs train and validation MSE')\n",
        "\n",
        "plt.savefig('170150A_Train_and_validation_MSE_for_n=1_to_10.png')\n",
        "plt.show()\n",
        "\n",
        "###################################################################################################################################\n",
        "# end\n",
        "# answer for the part d is inside the fit_and_evaluation function itself only few changes were done to take the required file \n",
        "\n",
        "\n",
        "\n"
      ]
    },
    {
      "cell_type": "code",
      "source": [
        "x = get_features(np.array([1.0,2.0,3.0]),3)\n",
        "x"
      ],
      "metadata": {
        "colab": {
          "base_uri": "https://localhost:8080/"
        },
        "id": "ktJvKCfWY8e5",
        "outputId": "33471235-71ee-4145-ee63-ad2c3c105afa"
      },
      "execution_count": null,
      "outputs": [
        {
          "output_type": "execute_result",
          "data": {
            "text/plain": [
              "array([[ 1.,  1.,  1.],\n",
              "       [ 2.,  4.,  8.],\n",
              "       [ 3.,  9., 27.]])"
            ]
          },
          "metadata": {},
          "execution_count": 7
        }
      ]
    },
    {
      "cell_type": "code",
      "source": [
        "x1 = get_features(np.array([1.0,2.0,3.0]),4)\n",
        "x1"
      ],
      "metadata": {
        "colab": {
          "base_uri": "https://localhost:8080/"
        },
        "id": "KISJeSweaMWF",
        "outputId": "d6e4640e-23ad-4e1d-d3d1-da061cbb24c7"
      },
      "execution_count": null,
      "outputs": [
        {
          "output_type": "execute_result",
          "data": {
            "text/plain": [
              "array([[ 1.,  1.,  1.,  1.],\n",
              "       [ 2.,  4.,  8., 16.],\n",
              "       [ 3.,  9., 27., 81.]])"
            ]
          },
          "metadata": {},
          "execution_count": 8
        }
      ]
    },
    {
      "cell_type": "code",
      "source": [
        "fit_and_evaluate(x_train, y_train, x_val, y_val, x_test,4)"
      ],
      "metadata": {
        "colab": {
          "base_uri": "https://localhost:8080/"
        },
        "id": "DIzblh2hfP30",
        "outputId": "3f02ec0d-38bc-4619-abc4-1540f36eab8f"
      },
      "execution_count": null,
      "outputs": [
        {
          "output_type": "stream",
          "name": "stdout",
          "text": [
            "(25, 4) (25,)\n"
          ]
        },
        {
          "output_type": "execute_result",
          "data": {
            "text/plain": [
              "(0.0011650003596661712, 0.0031270553819742627)"
            ]
          },
          "metadata": {},
          "execution_count": 9
        }
      ]
    },
    {
      "cell_type": "code",
      "source": [
        ""
      ],
      "metadata": {
        "id": "ZY6_jHnJiDmg"
      },
      "execution_count": null,
      "outputs": []
    }
  ]
}